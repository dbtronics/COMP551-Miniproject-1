{
  "nbformat": 4,
  "nbformat_minor": 0,
  "metadata": {
    "colab": {
      "name": "Untitled1.ipynb",
      "provenance": [],
      "collapsed_sections": [],
      "authorship_tag": "ABX9TyNKQwNE6IOmkS0llA+FyLEb",
      "include_colab_link": true
    },
    "kernelspec": {
      "name": "python3",
      "display_name": "Python 3"
    },
    "language_info": {
      "name": "python"
    }
  },
  "cells": [
    {
      "cell_type": "markdown",
      "metadata": {
        "id": "view-in-github",
        "colab_type": "text"
      },
      "source": [
        "<a href=\"https://colab.research.google.com/github/dbtronics/COMP551-Miniproject-1/blob/db-local-branch/miniproject1_main.ipynb\" target=\"_parent\"><img src=\"https://colab.research.google.com/assets/colab-badge.svg\" alt=\"Open In Colab\"/></a>"
      ]
    },
    {
      "cell_type": "code",
      "execution_count": 1,
      "metadata": {
        "id": "TaYxzM-_Z6a-"
      },
      "outputs": [],
      "source": [
        "from scipy.io import arff\n",
        "import pandas as pd\n",
        "import numpy as np\n",
        "import matplotlib.pyplot as plt\n",
        "from cProfile import label\n",
        "from IPython.core.debugger import set_trace         #for debugging "
      ]
    },
    {
      "cell_type": "code",
      "source": [
        "def task1():\n",
        "    data = arff.loadarff('messidor_features.arff')\n",
        "    df = pd.DataFrame(data[0])\n",
        "    df = df.replace({'?' : np.nan}).dropna()\n",
        "    # print(df)\n",
        "    # basic statistics df\n",
        "    # print(df.describe(include='all'))\n",
        "    # Document messidor features.arff above\n",
        "    # Document hepatitis below\n",
        "    df2 = pd.read_csv('hepatitis1.csv', \n",
        "    names=[\"class\", \"age\", \"sex\", \"steroid\", \"antivirals\", \n",
        "    \"fatigue\", \"malaise\", \"anorexia\", \"liver_big\", \"liver_firm\", \n",
        "    \"spleen_palpable\", \"spiders\", \"ascites\", \"varices\", \"bilirubin\", \n",
        "    \"alk_phosphate\", \"sgot\", \"albumin\", \"protime\", \"histology\"])\n",
        "    df2 = df2.replace({'?': np.nan}).dropna()\n",
        "    # print(df2)\n",
        "    # basic statistics df2\n",
        "    # print(df2.describe(include='all'))\n",
        "    df = df.to_numpy()\n",
        "    df2 = df2.to_numpy()\n",
        "    return df, df2 # messidor and hep data respectively\n"
      ],
      "metadata": {
        "id": "SR6VYn1AaREI"
      },
      "execution_count": 2,
      "outputs": []
    },
    {
      "cell_type": "code",
      "source": [
        "#it is important to set the seed for reproducibility as it initializes the random number generator\n",
        "np.random.seed(1234)\n",
        "\n",
        "#define the metric we will use to measure similarity\n",
        "#if the input shapes are [1,N1,F] and [N2,1,F] then output shape is [N2,N1]\n",
        "#as numpy supports broadcasting with arithmetic operations\n",
        "#for more on numpy broadcasting refer to: https://numpy.org/doc/stable/user/basics.broadcasting.html   \n",
        "euclidean = lambda x1, x2: np.sqrt(np.sum((x1 - x2)**2, axis=-1))\n",
        "manhattan = lambda x1, x2: np.sum(np.abs(x1 - x2), axis=-1)\n",
        "\n",
        "class KNN:\n",
        "\n",
        "    def __init__(self, K=1, dist_fn= euclidean):\n",
        "        self.dist_fn = dist_fn\n",
        "        self.K = K\n",
        "        return\n",
        "    \n",
        "    def fit(self, x, y):\n",
        "        ''' Store the training data using this method as it is a lazy learner'''\n",
        "        self.x = x\n",
        "        self.y = y\n",
        "        self.C = np.max(y) + 1\n",
        "        return self\n",
        "    \n",
        "    def predict(self, x_test):\n",
        "        ''' Makes a prediction using the stored training data and the test data given as argument'''\n",
        "        num_test = x_test.shape[0]\n",
        "        #calculate distance between the training & test samples and returns an array of shape [num_test, num_train]\n",
        "        distances = self.dist_fn(self.x[None,:,:], x_test[:,None,:])\n",
        "        #ith-row of knns stores the indices of k closest training samples to the ith-test sample \n",
        "        knns = np.zeros((num_test, self.K), dtype=int)\n",
        "        #ith-row of y_prob has the probability distribution over C classes\n",
        "        y_prob = np.zeros((num_test, self.C))\n",
        "        for i in range(num_test):\n",
        "            knns[i,:] = np.argsort(distances[i])[:self.K]\n",
        "            y_prob[i,:] = np.bincount(self.y[knns[i,:]], minlength=self.C) #counts the number of instances of each class in the K-closest training samples\n",
        "        #y_prob /= np.sum(y_prob, axis=-1, keepdims=True)\n",
        "        #simply divide by K to get a probability distribution\n",
        "        y_prob /= self.K\n",
        "        return y_prob, knns\n",
        "\n",
        "    def evaluate_acc(self, y_test, y_pred):\n",
        "        # correct_pred = y_test == y_pred # gets all the index of correct prediction\n",
        "        # accuracy = np.sum(y_test == y_pred) # in percentage\n",
        "        # accuracy /= y_test.shape[0] * 100\n",
        "        correct_pred, accuracy = 0, 0\n",
        "        for i in range(y_pred.shape[0]): correct_pred += y_test[i] == y_pred[i]\n",
        "        accuracy = correct_pred/(y_pred.shape[0]) * 100\n",
        "        return accuracy\n"
      ],
      "metadata": {
        "id": "fHU0cZ7ZagZh"
      },
      "execution_count": 3,
      "outputs": []
    },
    {
      "cell_type": "code",
      "source": [
        "def task2(k, depth, x_train, y_train, x_test):\n",
        "    # import KNN as kmodel\n",
        "    model_knn = KNN(k)\n",
        "    y_prob_knn, knn = model_knn.fit(x_train, y_train).predict(x_test)\n",
        "    y_pred = np.argmax(y_prob_knn, axis = -1)\n",
        "    accuracy_knn = model_knn.evaluate_acc(y_train, y_pred)\n",
        "    return accuracy_knn\n"
      ],
      "metadata": {
        "id": "PcJmx1ssaTL5"
      },
      "execution_count": 4,
      "outputs": []
    },
    {
      "cell_type": "code",
      "source": [
        "def decision_boundary(x, x_train, y_train):\n",
        "    #we can make the grid finer by increasing the number of samples from 200 to higher value\n",
        "    x0v = np.linspace(np.min(x[:,0]), np.max(x[:,0]), 200)\n",
        "    x1v = np.linspace(np.min(x[:,1]), np.max(x[:,1]), 200)\n",
        "\n",
        "    #to features values as a mesh  \n",
        "    x0, x1 = np.meshgrid(x0v, x1v)\n",
        "    x_all = np.vstack((x0.ravel(),x1.ravel())).T\n",
        "\n",
        "    for k in range(1,4):\n",
        "        # import KNN as kmodel\n",
        "        model = KNN(K=k)\n",
        "\n",
        "        C = np.max(y_train) + 1\n",
        "        y_train_prob = np.zeros((y_train.shape[0], C))\n",
        "        y_train_prob[np.arange(y_train.shape[0]), y_train] = 1\n",
        "\n",
        "        #to get class probability of all the points in the 2D grid\n",
        "        y_prob_all, _ = model.fit(x_train, y_train).predict(x_all)\n",
        "\n",
        "        y_pred_all = np.zeros_like(y_prob_all)\n",
        "        y_pred_all[np.arange(x_all.shape[0]), np.argmax(y_prob_all, axis=-1)] = 1\n",
        "        print(x_train[:,0].shape)\n",
        "        print(x_train[:,1].shape)\n",
        "        print(y_train_prob.shape)\n",
        "        plt.scatter(x_train[:,0], x_train[:,1], c=y_train_prob, marker='o', alpha=1)\n",
        "        plt.scatter(x_all[:,0], x_all[:,1], c=y_pred_all, marker='.', alpha=0.01)\n",
        "        plt.show()"
      ],
      "metadata": {
        "id": "nDAI7keuaZhV"
      },
      "execution_count": 5,
      "outputs": []
    },
    {
      "cell_type": "code",
      "source": [
        "mess_data, hep_data = task1()\n",
        "    \n",
        "mess_data = mess_data.astype(np.float64)\n",
        "hep_data = hep_data.astype(np.float64)\n",
        "\n",
        "# parameter adjustments\n",
        "k_range = 6\n",
        "train_portion = 8/10 # meaning 1/3 will be test portion\n",
        "num_features = 2\n",
        "    \n",
        "# 66% of train data and 33% of test data\n",
        "n_mess_train, n_hep_train = int(mess_data.shape[0] * train_portion), int(hep_data.shape[0] * train_portion)\n",
        "    \n",
        "# train data set for messidore\n",
        "mess_x_train = mess_data[:n_mess_train, :num_features] # All columns except last one\n",
        "# mess_y_train = mess_data[:n_mess_train, -1].reshape(n_mess_train, 1) # only get last column i.e. class\n",
        "mess_y_train = mess_data[:n_mess_train, -1]\n",
        "mess_y_train = mess_y_train.astype(np.int32)\n",
        "# test data set for messidore\n",
        "mess_x_test = mess_data[n_mess_train:, :num_features]\n",
        "# mess_y_test = mess_data[n_mess_train:, -1].reshape(mess_data.shape[0] - n_mess_train, 1)\n",
        "mess_y_test = mess_data[n_mess_train:, -1]\n",
        "mess_y_test = mess_y_test.astype(np.int32)\n",
        "\n",
        "#train data set for hepatitis\n",
        "hep_x_train = hep_data[:n_hep_train, 1:1+num_features]\n",
        "# hep_y_train = hep_data[:n_hep_train, 0].reshape(n_hep_train, 1)\n",
        "hep_y_train = hep_data[:n_hep_train, 0]\n",
        "hep_y_train = hep_y_train.astype(np.int32)\n",
        "#test data set for hepatitis\n",
        "hep_x_test = hep_data[n_hep_train:, 1:1+num_features]\n",
        "# hep_y_test = hep_data[n_hep_train:, 0].reshape(hep_data.shape[0] - n_hep_train, 1)\n",
        "hep_y_test = hep_data[n_hep_train:, 0]\n",
        "hep_y_test = hep_y_test.astype(np.int32)\n",
        "\n",
        "## We have test and train for both\n",
        "## Let's work from here\n",
        "for i in range(1, k_range):\n",
        "  print(\"K = \", i)\n",
        "  print(\"Messidore Accuracy: \", task2(i, 9, mess_x_train, mess_y_train, mess_x_test))\n",
        "  print(\"Hepatitis Accuracy: \", task2(i, 9, hep_x_train, hep_y_train, hep_x_test))\n",
        "  print(\"\\n\")\n",
        "\n",
        "decision_boundary(mess_data, mess_x_train, mess_y_train)"
      ],
      "metadata": {
        "colab": {
          "base_uri": "https://localhost:8080/",
          "height": 375
        },
        "id": "7oBPAu8sbHWA",
        "outputId": "3f9a4eb0-d03a-4076-f71e-fbbf8ebb2ab9"
      },
      "execution_count": 6,
      "outputs": [
        {
          "output_type": "error",
          "ename": "FileNotFoundError",
          "evalue": "ignored",
          "traceback": [
            "\u001b[0;31m---------------------------------------------------------------------------\u001b[0m",
            "\u001b[0;31mFileNotFoundError\u001b[0m                         Traceback (most recent call last)",
            "\u001b[0;32m<ipython-input-6-f893135d7959>\u001b[0m in \u001b[0;36m<module>\u001b[0;34m()\u001b[0m\n\u001b[0;32m----> 1\u001b[0;31m \u001b[0mmess_data\u001b[0m\u001b[0;34m,\u001b[0m \u001b[0mhep_data\u001b[0m \u001b[0;34m=\u001b[0m \u001b[0mtask1\u001b[0m\u001b[0;34m(\u001b[0m\u001b[0;34m)\u001b[0m\u001b[0;34m\u001b[0m\u001b[0;34m\u001b[0m\u001b[0m\n\u001b[0m\u001b[1;32m      2\u001b[0m \u001b[0;34m\u001b[0m\u001b[0m\n\u001b[1;32m      3\u001b[0m \u001b[0mmess_data\u001b[0m \u001b[0;34m=\u001b[0m \u001b[0mmess_data\u001b[0m\u001b[0;34m.\u001b[0m\u001b[0mastype\u001b[0m\u001b[0;34m(\u001b[0m\u001b[0mnp\u001b[0m\u001b[0;34m.\u001b[0m\u001b[0mfloat64\u001b[0m\u001b[0;34m)\u001b[0m\u001b[0;34m\u001b[0m\u001b[0;34m\u001b[0m\u001b[0m\n\u001b[1;32m      4\u001b[0m \u001b[0mhep_data\u001b[0m \u001b[0;34m=\u001b[0m \u001b[0mhep_data\u001b[0m\u001b[0;34m.\u001b[0m\u001b[0mastype\u001b[0m\u001b[0;34m(\u001b[0m\u001b[0mnp\u001b[0m\u001b[0;34m.\u001b[0m\u001b[0mfloat64\u001b[0m\u001b[0;34m)\u001b[0m\u001b[0;34m\u001b[0m\u001b[0;34m\u001b[0m\u001b[0m\n\u001b[1;32m      5\u001b[0m \u001b[0;34m\u001b[0m\u001b[0m\n",
            "\u001b[0;32m<ipython-input-2-02f84275cf50>\u001b[0m in \u001b[0;36mtask1\u001b[0;34m()\u001b[0m\n\u001b[1;32m      1\u001b[0m \u001b[0;32mdef\u001b[0m \u001b[0mtask1\u001b[0m\u001b[0;34m(\u001b[0m\u001b[0;34m)\u001b[0m\u001b[0;34m:\u001b[0m\u001b[0;34m\u001b[0m\u001b[0;34m\u001b[0m\u001b[0m\n\u001b[0;32m----> 2\u001b[0;31m     \u001b[0mdata\u001b[0m \u001b[0;34m=\u001b[0m \u001b[0marff\u001b[0m\u001b[0;34m.\u001b[0m\u001b[0mloadarff\u001b[0m\u001b[0;34m(\u001b[0m\u001b[0;34m'messidor_features.arff'\u001b[0m\u001b[0;34m)\u001b[0m\u001b[0;34m\u001b[0m\u001b[0;34m\u001b[0m\u001b[0m\n\u001b[0m\u001b[1;32m      3\u001b[0m     \u001b[0mdf\u001b[0m \u001b[0;34m=\u001b[0m \u001b[0mpd\u001b[0m\u001b[0;34m.\u001b[0m\u001b[0mDataFrame\u001b[0m\u001b[0;34m(\u001b[0m\u001b[0mdata\u001b[0m\u001b[0;34m[\u001b[0m\u001b[0;36m0\u001b[0m\u001b[0;34m]\u001b[0m\u001b[0;34m)\u001b[0m\u001b[0;34m\u001b[0m\u001b[0;34m\u001b[0m\u001b[0m\n\u001b[1;32m      4\u001b[0m     \u001b[0mdf\u001b[0m \u001b[0;34m=\u001b[0m \u001b[0mdf\u001b[0m\u001b[0;34m.\u001b[0m\u001b[0mreplace\u001b[0m\u001b[0;34m(\u001b[0m\u001b[0;34m{\u001b[0m\u001b[0;34m'?'\u001b[0m \u001b[0;34m:\u001b[0m \u001b[0mnp\u001b[0m\u001b[0;34m.\u001b[0m\u001b[0mnan\u001b[0m\u001b[0;34m}\u001b[0m\u001b[0;34m)\u001b[0m\u001b[0;34m.\u001b[0m\u001b[0mdropna\u001b[0m\u001b[0;34m(\u001b[0m\u001b[0;34m)\u001b[0m\u001b[0;34m\u001b[0m\u001b[0;34m\u001b[0m\u001b[0m\n\u001b[1;32m      5\u001b[0m     \u001b[0;31m# print(df)\u001b[0m\u001b[0;34m\u001b[0m\u001b[0;34m\u001b[0m\u001b[0;34m\u001b[0m\u001b[0m\n",
            "\u001b[0;32m/usr/local/lib/python3.7/dist-packages/scipy/io/arff/arffread.py\u001b[0m in \u001b[0;36mloadarff\u001b[0;34m(f)\u001b[0m\n\u001b[1;32m    801\u001b[0m         \u001b[0mofile\u001b[0m \u001b[0;34m=\u001b[0m \u001b[0mf\u001b[0m\u001b[0;34m\u001b[0m\u001b[0;34m\u001b[0m\u001b[0m\n\u001b[1;32m    802\u001b[0m     \u001b[0;32melse\u001b[0m\u001b[0;34m:\u001b[0m\u001b[0;34m\u001b[0m\u001b[0;34m\u001b[0m\u001b[0m\n\u001b[0;32m--> 803\u001b[0;31m         \u001b[0mofile\u001b[0m \u001b[0;34m=\u001b[0m \u001b[0mopen\u001b[0m\u001b[0;34m(\u001b[0m\u001b[0mf\u001b[0m\u001b[0;34m,\u001b[0m \u001b[0;34m'rt'\u001b[0m\u001b[0;34m)\u001b[0m\u001b[0;34m\u001b[0m\u001b[0;34m\u001b[0m\u001b[0m\n\u001b[0m\u001b[1;32m    804\u001b[0m     \u001b[0;32mtry\u001b[0m\u001b[0;34m:\u001b[0m\u001b[0;34m\u001b[0m\u001b[0;34m\u001b[0m\u001b[0m\n\u001b[1;32m    805\u001b[0m         \u001b[0;32mreturn\u001b[0m \u001b[0m_loadarff\u001b[0m\u001b[0;34m(\u001b[0m\u001b[0mofile\u001b[0m\u001b[0;34m)\u001b[0m\u001b[0;34m\u001b[0m\u001b[0;34m\u001b[0m\u001b[0m\n",
            "\u001b[0;31mFileNotFoundError\u001b[0m: [Errno 2] No such file or directory: 'messidor_features.arff'"
          ]
        }
      ]
    }
  ]
}